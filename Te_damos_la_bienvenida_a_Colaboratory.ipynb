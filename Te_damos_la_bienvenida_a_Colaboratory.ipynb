{
  "cells": [
    {
      "cell_type": "markdown",
      "metadata": {
        "id": "view-in-github",
        "colab_type": "text"
      },
      "source": [
        "<a href=\"https://colab.research.google.com/github/HugoG88/Prueba/blob/main/Te_damos_la_bienvenida_a_Colaboratory.ipynb\" target=\"_parent\"><img src=\"https://colab.research.google.com/assets/colab-badge.svg\" alt=\"Open In Colab\"/></a>"
      ]
    },
    {
      "cell_type": "code",
      "source": [
        "pila = [0, 1]\n",
        "def fun(elm):\n",
        "  pila.append(elm)\n",
        "\n",
        "fun(3)\n",
        "fun(4)\n",
        "fun(5)\n",
        "print(pila)"
      ],
      "metadata": {
        "id": "73qxQxeExgoo",
        "outputId": "00587824-2dc8-4f16-ba62-8de1c64b154e",
        "colab": {
          "base_uri": "https://localhost:8080/"
        }
      },
      "execution_count": 9,
      "outputs": [
        {
          "output_type": "stream",
          "name": "stdout",
          "text": [
            "[0, 1, 3, 4, 5]\n"
          ]
        }
      ]
    },
    {
      "cell_type": "code",
      "source": [],
      "metadata": {
        "id": "TklVo9Rx4w7L"
      },
      "execution_count": null,
      "outputs": []
    },
    {
      "cell_type": "code",
      "source": [
        "pila = [0, 1, 5, 4, 6, 8]\n",
        "def pop():\n",
        "  if not len():\n",
        "    return pila.pop()\n",
        "    pop()\n",
        "    pop()\n",
        "print(pila)\n",
        "\n"
      ],
      "metadata": {
        "id": "lobsGaLBzYSv"
      },
      "execution_count": null,
      "outputs": []
    },
    {
      "cell_type": "code",
      "source": [],
      "metadata": {
        "id": "10y71sKx56ig"
      },
      "execution_count": null,
      "outputs": []
    },
    {
      "cell_type": "code",
      "source": [
        "edad = int(input('Ingrese su edad: '))\n",
        "if edad >= 18:\n",
        "  print('usted es mayor de edad')"
      ],
      "metadata": {
        "id": "fN4CfF1-43X2"
      },
      "execution_count": null,
      "outputs": []
    },
    {
      "cell_type": "code",
      "source": [
        "sueldo = int(input('Ingrese su sueldo: '))\n",
        "sueldo_min = int(input('Ingrese el valor del sueldo minimo: '))\n",
        "if sueldo > sueldo_min:\n",
        "  print('usted gana mas que el sueldo minimo')"
      ],
      "metadata": {
        "id": "SOldRkTkBHNy"
      },
      "execution_count": null,
      "outputs": []
    },
    {
      "cell_type": "code",
      "source": [
        "numero = int(input('ingrese un numero: '))\n",
        "if numero > 100:\n",
        "  print('mayor que 100')\n",
        "else:\n",
        "  print('menor que 100')"
      ],
      "metadata": {
        "id": "hTEoyE1VCiez"
      },
      "execution_count": null,
      "outputs": []
    },
    {
      "cell_type": "code",
      "source": [
        "caracter = input('Ingrese un caracter: ')\n",
        "\n",
        "if caracter == 'S' or caracter == 'N':\n",
        "  print('Correcto')\n",
        "\n",
        "else:\n",
        "  print('Incorrecto')"
      ],
      "metadata": {
        "id": "8MTNEcMSDJTH"
      },
      "execution_count": null,
      "outputs": []
    },
    {
      "cell_type": "code",
      "source": [
        "numero = int(input('Ingrese un numero: '))\n",
        "resto = numero % 1\n",
        "print(resto)"
      ],
      "metadata": {
        "id": "fSEatRBkFs7s"
      },
      "execution_count": null,
      "outputs": []
    },
    {
      "cell_type": "code",
      "source": [
        "palabra = input('Ingrese la palabra: ')\n",
        "tam_palabra = len(palabra)\n",
        "if tam_palabra == 6:\n",
        "  print('correcto')\n",
        "else:\n",
        "  print('incorrecto')\n"
      ],
      "metadata": {
        "id": "-an0DG_0u9fP"
      },
      "execution_count": null,
      "outputs": []
    },
    {
      "cell_type": "code",
      "source": [
        "frase = input('Ingrese la frase: ')\n",
        "tam_frase = len(frase)\n",
        "print(tam_frase)\n",
        "if tam_frase == 4:\n",
        "  frase = frase + '¡'\n",
        "else:\n",
        "  frase = frase + '?'\n",
        "\n",
        "print(frase)"
      ],
      "metadata": {
        "id": "sU-SAFQ3xY0U"
      },
      "execution_count": null,
      "outputs": []
    },
    {
      "cell_type": "code",
      "source": [
        "nota1 = int(input('Ingrese la nota 1: '))\n",
        "nota2 = int(input('Ingrese la nota 2: '))\n",
        "nota3 = int(input('Ingrese la nota 3: '))\n",
        "var = True\n",
        "if (nota1 >= 0 and nota1 <= 10) and (nota2 >= 0 and nota2 <= 10) and (nota3 >= 0 and nota3 <= 10):\n",
        "  var = True\n",
        "else:\n",
        "  var = False\n",
        "print(var)\n"
      ],
      "metadata": {
        "id": "sbPO3ZTG0uxo",
        "outputId": "347e6013-8d0b-4a15-efc1-0c12f56592b3",
        "colab": {
          "base_uri": "https://localhost:8080/"
        }
      },
      "execution_count": 18,
      "outputs": [
        {
          "output_type": "stream",
          "name": "stdout",
          "text": [
            "Ingrese la nota 1: 5\n",
            "Ingrese la nota 2: 4\n",
            "Ingrese la nota 3: 6\n",
            "True\n"
          ]
        }
      ]
    },
    {
      "cell_type": "code",
      "source": [
        "palabra = input('Ingrese la palabra: ')\n",
        "\n",
        "if palabra[0] == palabra[-1]:\n",
        "  print('correcto')\n",
        "else:\n",
        "  print('incorrecto')"
      ],
      "metadata": {
        "id": "IMJ8rL0v3TC3",
        "outputId": "e81f5344-34ad-436a-f4d2-4d01f983c514",
        "colab": {
          "base_uri": "https://localhost:8080/"
        }
      },
      "execution_count": 30,
      "outputs": [
        {
          "output_type": "stream",
          "name": "stdout",
          "text": [
            "Ingrese la palabra: agua\n",
            "correcto\n"
          ]
        }
      ]
    },
    {
      "cell_type": "code",
      "source": [
        "numero = int(input('Ingrese el numero entero: '))\n",
        "if numero == 0:\n",
        "  print('el numero no es par ni impar')\n",
        "elif numero % 2 == 0:\n",
        "  print('el numero es par')\n",
        "else:\n",
        "  print('el numero es impar')"
      ],
      "metadata": {
        "id": "xpxcEnpu_gp1",
        "outputId": "4a3ad86d-0b0c-498c-f42f-acfc9fe81427",
        "colab": {
          "base_uri": "https://localhost:8080/"
        }
      },
      "execution_count": 6,
      "outputs": [
        {
          "output_type": "stream",
          "name": "stdout",
          "text": [
            "Ingrese el numero entero: 0\n",
            "el numero no es par ni impar\n"
          ]
        }
      ]
    },
    {
      "cell_type": "code",
      "source": [
        "num1 = float(input('Ingrese el primer numero: '))\n",
        "num2 = float(input('Ingrese el segundo numero: '))\n",
        "operacion = input('Ingrese la operación a realizar (S/s: suma , R/r: resta), M/m: multiplicación: ')\n",
        "resultado = 0\n",
        "if operacion == 'S' or operacion == 's':\n",
        "  resultado = num1 + num2\n",
        "elif operacion == 'R' or operacion == 'r':\n",
        "  resultado = num1 - num2\n",
        "elif operacion == 'M' or operacion == 'm':\n",
        "  resultado = num1 * num2\n",
        "elif operacion == 'D' or operacion == 'd':\n",
        "  if num2 == 0:\n",
        "    print('no se puede realizar division entre cero')\n",
        "  resultado = num1 / num2\n",
        "print('El resultado es:', resultado)"
      ],
      "metadata": {
        "id": "0bmbCSz1Al8T"
      },
      "execution_count": null,
      "outputs": []
    },
    {
      "cell_type": "code",
      "source": [
        "tor_def = int(input('Ingrese cantidad de tornillos defectuosos: '))\n",
        "tor_sin_def = int(input('Ingrese cantidad de tornillos producidos sin defectos: '))\n",
        "cond1 = tor_def\n",
        "cond2 = tor_sin_def\n",
        "if cond1 >= 0 and cond2 >= 0:\n",
        "  if cond1 >= 200 and cond2 <= 10000:\n",
        "    print('Eficiencia grado 5')\n",
        "  elif cond1 < 200 and cond2 < 10000:\n",
        "    print('Eficiencia grado 6')\n",
        "  elif cond1 > 200 and cond2 > 10000:\n",
        "    print('Eficiencia grado 7')\n",
        "  else:\n",
        "    print('Eficiencia grado 8')\n",
        "else:\n",
        "  print('Cantidad de tornillos no puede ser menor a cero')"
      ],
      "metadata": {
        "id": "qn5oJOfhTNFX"
      },
      "execution_count": null,
      "outputs": []
    },
    {
      "cell_type": "code",
      "source": [
        "var = int(input('Ingrese año: '))\n",
        "if (var % 4 == 0) and (var % 100 != 0) or (var % 100 == 0) and (var % 400 == 0):\n",
        "  print('El año es bisiesto')\n",
        "else:\n",
        "  print('El año no es bisiesto')\n"
      ],
      "metadata": {
        "id": "Rerd5xehhOAw",
        "outputId": "9b6472a8-bd24-4b14-eac9-166635d921d5",
        "colab": {
          "base_uri": "https://localhost:8080/"
        }
      },
      "execution_count": 20,
      "outputs": [
        {
          "output_type": "stream",
          "name": "stdout",
          "text": [
            "Ingrese año: 2023\n",
            "El año no es bisiesto\n"
          ]
        }
      ]
    }
  ],
  "metadata": {
    "colab": {
      "name": "Te damos la bienvenida a Colaboratory",
      "toc_visible": true,
      "provenance": [],
      "include_colab_link": true
    },
    "kernelspec": {
      "display_name": "Python 3",
      "name": "python3"
    }
  },
  "nbformat": 4,
  "nbformat_minor": 0
}